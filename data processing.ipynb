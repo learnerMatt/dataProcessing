{
 "cells": [
  {
   "cell_type": "code",
   "execution_count": null,
   "id": "5135aea0-790a-4f22-9c39-016559141fb5",
   "metadata": {},
   "outputs": [],
   "source": [
    "##data processing\n",
    "##multiple text files"
   ]
  },
  {
   "cell_type": "code",
   "execution_count": 2,
   "id": "ac3e3336-d613-42ec-a464-ce9f2a05f18a",
   "metadata": {
    "tags": []
   },
   "outputs": [],
   "source": [
    "import glob\n",
    "files = glob.glob('data/txt/*.txt')"
   ]
  },
  {
   "cell_type": "code",
   "execution_count": 3,
   "id": "d8eb293c-272d-4e1d-84af-fe6fad36daf0",
   "metadata": {
    "tags": []
   },
   "outputs": [
    {
     "data": {
      "text/plain": [
       "['data/txt\\\\1.txt', 'data/txt\\\\2.txt', 'data/txt\\\\3.txt']"
      ]
     },
     "execution_count": 3,
     "metadata": {},
     "output_type": "execute_result"
    }
   ],
   "source": [
    "files"
   ]
  },
  {
   "cell_type": "code",
   "execution_count": 6,
   "id": "ddd418d9-5a85-4fff-92e5-4c8cb4c53c82",
   "metadata": {
    "tags": []
   },
   "outputs": [],
   "source": [
    "with open('output.txt', 'w') as out_file:\n",
    "    for file_name in files:\n",
    "        with open(file_name) as in_file:\n",
    "            out_file.write(in_file.read())"
   ]
  },
  {
   "cell_type": "code",
   "execution_count": 7,
   "id": "23433eba-fe26-4e49-8a14-7944e8bbf9c0",
   "metadata": {
    "tags": []
   },
   "outputs": [
    {
     "name": "stdout",
     "output_type": "stream",
     "text": [
      "this is text file 1\n",
      "this is text file 2\n",
      "\n",
      "\n",
      "this is text file 3\n"
     ]
    }
   ],
   "source": [
    "with open('output.txt', 'r') as new_file:\n",
    "    lines = [line.strip() for line in new_file]\n",
    "for line in lines: print(line)"
   ]
  },
  {
   "cell_type": "code",
   "execution_count": null,
   "id": "71dce86f-fd59-4862-810a-87b27cb90f76",
   "metadata": {},
   "outputs": [],
   "source": [
    "#multiple csv files"
   ]
  },
  {
   "cell_type": "code",
   "execution_count": 10,
   "id": "b1ecdb2c-b0d8-4681-a702-64bae714ee9b",
   "metadata": {
    "tags": []
   },
   "outputs": [
    {
     "name": "stdout",
     "output_type": "stream",
     "text": [
      "['data/csv\\\\csv1.csv', 'data/csv\\\\csv2.csv']\n"
     ]
    }
   ],
   "source": [
    "import pandas as pd\n",
    "import glob\n",
    "\n",
    "# Load all csv files in path\n",
    "files = glob.glob('data/csv/*.csv')\n",
    "print(files)"
   ]
  },
  {
   "cell_type": "code",
   "execution_count": 18,
   "id": "e968345d-3290-4a2b-8dc9-0f3e09fcf30b",
   "metadata": {
    "tags": []
   },
   "outputs": [],
   "source": [
    "# Create a list of dataframe, one series per CSV\n",
    "score_list = []\n",
    "for file_name in files:\n",
    "    df = pd.read_csv(file_name, index_col=None, header=0)\n",
    "    score_list.append(df)"
   ]
  },
  {
   "cell_type": "code",
   "execution_count": 19,
   "id": "26b54d77-0cee-40b1-829e-1e163c475784",
   "metadata": {
    "tags": []
   },
   "outputs": [
    {
     "data": {
      "text/plain": [
       "[   name      class  score\n",
       " 0   Jim    English     60\n",
       " 1   Tom    English     80\n",
       " 2  Lucy  Chemistry     90\n",
       " 3  Lucy       Math     80\n",
       " 4   Tom    Physics     65\n",
       " 5  Lucy    Chinese     70,\n",
       "     name      class  score\n",
       " 0    Jim    English     60\n",
       " 1    Tom    English     80\n",
       " 2   Matt  Chemistry     90\n",
       " 3   Lily       Math     80\n",
       " 4    Lin    Physics     65\n",
       " 5  Chris    Chinese     70]"
      ]
     },
     "execution_count": 19,
     "metadata": {},
     "output_type": "execute_result"
    }
   ],
   "source": [
    "score_list"
   ]
  },
  {
   "cell_type": "code",
   "execution_count": 21,
   "id": "169f2723-ce9c-4785-bb64-197f4c88aba6",
   "metadata": {
    "tags": []
   },
   "outputs": [
    {
     "name": "stdout",
     "output_type": "stream",
     "text": [
      "   name      class  score\n",
      "0   Jim    English     60\n",
      "1   Tom    English     80\n",
      "2  Lucy  Chemistry     90\n",
      "(12, 3)\n"
     ]
    },
    {
     "data": {
      "text/html": [
       "<div>\n",
       "<style scoped>\n",
       "    .dataframe tbody tr th:only-of-type {\n",
       "        vertical-align: middle;\n",
       "    }\n",
       "\n",
       "    .dataframe tbody tr th {\n",
       "        vertical-align: top;\n",
       "    }\n",
       "\n",
       "    .dataframe thead th {\n",
       "        text-align: right;\n",
       "    }\n",
       "</style>\n",
       "<table border=\"1\" class=\"dataframe\">\n",
       "  <thead>\n",
       "    <tr style=\"text-align: right;\">\n",
       "      <th></th>\n",
       "      <th>name</th>\n",
       "      <th>class</th>\n",
       "      <th>score</th>\n",
       "    </tr>\n",
       "  </thead>\n",
       "  <tbody>\n",
       "    <tr>\n",
       "      <th>0</th>\n",
       "      <td>Jim</td>\n",
       "      <td>English</td>\n",
       "      <td>60</td>\n",
       "    </tr>\n",
       "    <tr>\n",
       "      <th>1</th>\n",
       "      <td>Tom</td>\n",
       "      <td>English</td>\n",
       "      <td>80</td>\n",
       "    </tr>\n",
       "    <tr>\n",
       "      <th>2</th>\n",
       "      <td>Lucy</td>\n",
       "      <td>Chemistry</td>\n",
       "      <td>90</td>\n",
       "    </tr>\n",
       "  </tbody>\n",
       "</table>\n",
       "</div>"
      ],
      "text/plain": [
       "   name      class  score\n",
       "0   Jim    English     60\n",
       "1   Tom    English     80\n",
       "2  Lucy  Chemistry     90"
      ]
     },
     "metadata": {},
     "output_type": "display_data"
    }
   ],
   "source": [
    "# Create combined frame out of list of individual frames\n",
    "scores = pd.concat(fruit_list, axis=0, ignore_index=True)\n",
    "\n",
    "print(scores.head(3))\n",
    "print(scores.shape)\n",
    "display(scores.head(3))"
   ]
  },
  {
   "cell_type": "code",
   "execution_count": 22,
   "id": "c3026240-55e1-46cb-8714-5de26757cb46",
   "metadata": {
    "tags": []
   },
   "outputs": [
    {
     "name": "stdout",
     "output_type": "stream",
     "text": [
      "Dataframe compressed and saved to file\n",
      "    col_A       col_B       col_C\n",
      "0    kiwi   pineapple   blueberry\n",
      "1  banana      grapes  grapefruit\n",
      "2   apple  grapefruit      orange\n"
     ]
    }
   ],
   "source": [
    "import pandas as pd\n",
    "\n",
    "# Create a dataframe to use\n",
    "df = pd.DataFrame({'col_A': ['kiwi', 'banana', 'apple'],\n",
    "          'col_B': ['pineapple', 'grapes', 'grapefruit'],\n",
    "           'col_C': ['blueberry', 'grapefruit', 'orange']})\n",
    "\n",
    "# Compress and save dataframe to file\n",
    "df.to_csv('sample_dataframe.csv.zip', index=False, compression='zip')\n",
    "print('Dataframe compressed and saved to file')\n",
    "\n",
    "# Read compressed zip file into dataframe\n",
    "df = pd.read_csv('sample_dataframe.csv.zip',)\n",
    "print(df)"
   ]
  },
  {
   "cell_type": "code",
   "execution_count": 23,
   "id": "e1542011-d57e-4769-a10e-7e3adbcaa91d",
   "metadata": {
    "tags": []
   },
   "outputs": [
    {
     "name": "stdout",
     "output_type": "stream",
     "text": [
      "List of lists:\n",
      "[['apple', 'pear', 'banana', 'grapes'], ['zebra', 'donkey', 'elephant', 'cow'], ['vanilla', 'chocolate'], ['princess', 'prince']]\n",
      "Flattened list:\n",
      "['apple', 'pear', 'banana', 'grapes', 'zebra', 'donkey', 'elephant', 'cow', 'vanilla', 'chocolate', 'princess', 'prince']\n"
     ]
    }
   ],
   "source": [
    "# Create of list of lists (a list where all of its elements are lists)\n",
    "list_of_lists = [['apple', 'pear', 'banana', 'grapes'], \n",
    "                 ['zebra', 'donkey', 'elephant', 'cow'],\n",
    "\t         ['vanilla', 'chocolate'], \n",
    "                 ['princess', 'prince']]\n",
    "\n",
    "# Flatten the list of lists into a single list\n",
    "flat_list = [element for sub_list in list_of_lists for element in sub_list]\n",
    "\n",
    "# Print both to compare\n",
    "print(f'List of lists:\\n{list_of_lists}')\n",
    "print(f'Flattened list:\\n{flat_list}')"
   ]
  },
  {
   "cell_type": "code",
   "execution_count": 24,
   "id": "f5bc024b-7c6c-49ac-83fb-e099bd1cf645",
   "metadata": {
    "tags": []
   },
   "outputs": [
    {
     "data": {
      "text/html": [
       "<div>\n",
       "<style scoped>\n",
       "    .dataframe tbody tr th:only-of-type {\n",
       "        vertical-align: middle;\n",
       "    }\n",
       "\n",
       "    .dataframe tbody tr th {\n",
       "        vertical-align: top;\n",
       "    }\n",
       "\n",
       "    .dataframe thead th {\n",
       "        text-align: right;\n",
       "    }\n",
       "</style>\n",
       "<table border=\"1\" class=\"dataframe\">\n",
       "  <thead>\n",
       "    <tr style=\"text-align: right;\">\n",
       "      <th></th>\n",
       "      <th>name</th>\n",
       "      <th>class</th>\n",
       "      <th>score</th>\n",
       "    </tr>\n",
       "  </thead>\n",
       "  <tbody>\n",
       "    <tr>\n",
       "      <th>0</th>\n",
       "      <td>Jim</td>\n",
       "      <td>English</td>\n",
       "      <td>60</td>\n",
       "    </tr>\n",
       "    <tr>\n",
       "      <th>1</th>\n",
       "      <td>Tom</td>\n",
       "      <td>English</td>\n",
       "      <td>80</td>\n",
       "    </tr>\n",
       "    <tr>\n",
       "      <th>2</th>\n",
       "      <td>Lucy</td>\n",
       "      <td>Chemistry</td>\n",
       "      <td>90</td>\n",
       "    </tr>\n",
       "    <tr>\n",
       "      <th>3</th>\n",
       "      <td>Lucy</td>\n",
       "      <td>Math</td>\n",
       "      <td>80</td>\n",
       "    </tr>\n",
       "    <tr>\n",
       "      <th>4</th>\n",
       "      <td>Tom</td>\n",
       "      <td>Physics</td>\n",
       "      <td>65</td>\n",
       "    </tr>\n",
       "    <tr>\n",
       "      <th>5</th>\n",
       "      <td>Lucy</td>\n",
       "      <td>Chinese</td>\n",
       "      <td>70</td>\n",
       "    </tr>\n",
       "    <tr>\n",
       "      <th>6</th>\n",
       "      <td>Jim</td>\n",
       "      <td>English</td>\n",
       "      <td>60</td>\n",
       "    </tr>\n",
       "    <tr>\n",
       "      <th>7</th>\n",
       "      <td>Tom</td>\n",
       "      <td>English</td>\n",
       "      <td>80</td>\n",
       "    </tr>\n",
       "    <tr>\n",
       "      <th>8</th>\n",
       "      <td>Matt</td>\n",
       "      <td>Chemistry</td>\n",
       "      <td>90</td>\n",
       "    </tr>\n",
       "    <tr>\n",
       "      <th>9</th>\n",
       "      <td>Lily</td>\n",
       "      <td>Math</td>\n",
       "      <td>80</td>\n",
       "    </tr>\n",
       "    <tr>\n",
       "      <th>10</th>\n",
       "      <td>Lin</td>\n",
       "      <td>Physics</td>\n",
       "      <td>65</td>\n",
       "    </tr>\n",
       "    <tr>\n",
       "      <th>11</th>\n",
       "      <td>Chris</td>\n",
       "      <td>Chinese</td>\n",
       "      <td>70</td>\n",
       "    </tr>\n",
       "  </tbody>\n",
       "</table>\n",
       "</div>"
      ],
      "text/plain": [
       "     name      class  score\n",
       "0     Jim    English     60\n",
       "1     Tom    English     80\n",
       "2    Lucy  Chemistry     90\n",
       "3    Lucy       Math     80\n",
       "4     Tom    Physics     65\n",
       "5    Lucy    Chinese     70\n",
       "6     Jim    English     60\n",
       "7     Tom    English     80\n",
       "8    Matt  Chemistry     90\n",
       "9    Lily       Math     80\n",
       "10    Lin    Physics     65\n",
       "11  Chris    Chinese     70"
      ]
     },
     "execution_count": 24,
     "metadata": {},
     "output_type": "execute_result"
    }
   ],
   "source": [
    "scores"
   ]
  },
  {
   "cell_type": "code",
   "execution_count": 30,
   "id": "02d4cd8f-33ae-4bf5-a185-65eb0b29dd94",
   "metadata": {
    "tags": []
   },
   "outputs": [],
   "source": [
    "age=pd.read_csv('data/csv/age.csv')"
   ]
  },
  {
   "cell_type": "code",
   "execution_count": 31,
   "id": "d248cb81-0745-4e5c-92f7-6acd0889f897",
   "metadata": {
    "tags": []
   },
   "outputs": [
    {
     "data": {
      "text/html": [
       "<div>\n",
       "<style scoped>\n",
       "    .dataframe tbody tr th:only-of-type {\n",
       "        vertical-align: middle;\n",
       "    }\n",
       "\n",
       "    .dataframe tbody tr th {\n",
       "        vertical-align: top;\n",
       "    }\n",
       "\n",
       "    .dataframe thead th {\n",
       "        text-align: right;\n",
       "    }\n",
       "</style>\n",
       "<table border=\"1\" class=\"dataframe\">\n",
       "  <thead>\n",
       "    <tr style=\"text-align: right;\">\n",
       "      <th></th>\n",
       "      <th>name</th>\n",
       "      <th>age</th>\n",
       "    </tr>\n",
       "  </thead>\n",
       "  <tbody>\n",
       "    <tr>\n",
       "      <th>0</th>\n",
       "      <td>Tom</td>\n",
       "      <td>10</td>\n",
       "    </tr>\n",
       "    <tr>\n",
       "      <th>1</th>\n",
       "      <td>Matt</td>\n",
       "      <td>8</td>\n",
       "    </tr>\n",
       "    <tr>\n",
       "      <th>2</th>\n",
       "      <td>Lily</td>\n",
       "      <td>13</td>\n",
       "    </tr>\n",
       "    <tr>\n",
       "      <th>3</th>\n",
       "      <td>Chris</td>\n",
       "      <td>12</td>\n",
       "    </tr>\n",
       "    <tr>\n",
       "      <th>4</th>\n",
       "      <td>John</td>\n",
       "      <td>9</td>\n",
       "    </tr>\n",
       "    <tr>\n",
       "      <th>5</th>\n",
       "      <td>Peter</td>\n",
       "      <td>11</td>\n",
       "    </tr>\n",
       "  </tbody>\n",
       "</table>\n",
       "</div>"
      ],
      "text/plain": [
       "    name  age\n",
       "0    Tom   10\n",
       "1   Matt    8\n",
       "2   Lily   13\n",
       "3  Chris   12\n",
       "4   John    9\n",
       "5  Peter   11"
      ]
     },
     "execution_count": 31,
     "metadata": {},
     "output_type": "execute_result"
    }
   ],
   "source": [
    "age"
   ]
  },
  {
   "cell_type": "code",
   "execution_count": 35,
   "id": "f7677082-e554-4d4b-9f8e-69de28d7703e",
   "metadata": {
    "tags": []
   },
   "outputs": [
    {
     "name": "stdout",
     "output_type": "stream",
     "text": [
      "Result of left join: \n",
      "      name      class  score   age\n",
      "0     Jim    English     60   NaN\n",
      "1     Tom    English     80  10.0\n",
      "2    Lucy  Chemistry     90   NaN\n",
      "3    Lucy       Math     80   NaN\n",
      "4     Tom    Physics     65  10.0\n",
      "5    Lucy    Chinese     70   NaN\n",
      "6     Jim    English     60   NaN\n",
      "7     Tom    English     80  10.0\n",
      "8    Matt  Chemistry     90   8.0\n",
      "9    Lily       Math     80  13.0\n",
      "10    Lin    Physics     65   NaN\n",
      "11  Chris    Chinese     70  12.0 \n",
      "\n",
      "Result of right join: \n",
      "     name      class  score  age\n",
      "0    Tom    English   80.0   10\n",
      "1    Tom    Physics   65.0   10\n",
      "2    Tom    English   80.0   10\n",
      "3   Matt  Chemistry   90.0    8\n",
      "4   Lily       Math   80.0   13\n",
      "5  Chris    Chinese   70.0   12\n",
      "6   John        NaN    NaN    9\n",
      "7  Peter        NaN    NaN   11 \n",
      "\n",
      "Result of inner join: \n",
      "     name      class  score  age\n",
      "0    Tom    English     80   10\n",
      "1    Tom    Physics     65   10\n",
      "2    Tom    English     80   10\n",
      "3   Matt  Chemistry     90    8\n",
      "4   Lily       Math     80   13\n",
      "5  Chris    Chinese     70   12 \n",
      "\n"
     ]
    }
   ],
   "source": [
    "res_left=pd.merge(scores,age,on='name',how='left')\n",
    "print('Result of left join: \\n',res_left,'\\n')\n",
    "res_right=pd.merge(scores,age,on='name',how='right')\n",
    "print('Result of right join: \\n',res_right,'\\n')\n",
    "res_inner=pd.merge(scores,age,on='name',how='inner')\n",
    "print('Result of inner join: \\n',res_inner,'\\n')\n"
   ]
  },
  {
   "cell_type": "code",
   "execution_count": 41,
   "id": "d56001a1-1310-4465-9912-5be49bb47e92",
   "metadata": {
    "tags": []
   },
   "outputs": [
    {
     "name": "stdout",
     "output_type": "stream",
     "text": [
      "10.5\n",
      "10.5\n",
      "nan\n"
     ]
    }
   ],
   "source": [
    "print(res_left['age'].mean())\n",
    "print(res_left['age'].mean(skipna=True))\n",
    "print(res_left['age'].mean(skipna=False))\n"
   ]
  },
  {
   "cell_type": "code",
   "execution_count": 44,
   "id": "b68cf074-680b-42b3-9334-63baa87d7d8e",
   "metadata": {
    "tags": []
   },
   "outputs": [
    {
     "name": "stdout",
     "output_type": "stream",
     "text": [
      "(12, 4) (10, 4)\n"
     ]
    }
   ],
   "source": [
    "res_left_dedup=res_left.drop_duplicates()\n",
    "print(res_left.shape,res_left_dedup.shape)"
   ]
  },
  {
   "cell_type": "code",
   "execution_count": 45,
   "id": "b458b9da-a78b-4713-a4ce-a8d906ecc3af",
   "metadata": {
    "collapsed": true,
    "jupyter": {
     "outputs_hidden": true,
     "source_hidden": true
    },
    "tags": []
   },
   "outputs": [
    {
     "name": "stdout",
     "output_type": "stream",
     "text": [
      "Defaulting to user installation because normal site-packages is not writeable\n",
      "Collecting pandasql\n",
      "  Downloading pandasql-0.7.3.tar.gz (26 kB)\n",
      "  Preparing metadata (setup.py): started\n",
      "  Preparing metadata (setup.py): finished with status 'done'\n",
      "Requirement already satisfied: numpy in c:\\programdata\\anaconda3\\lib\\site-packages (from pandasql) (1.24.3)\n",
      "Requirement already satisfied: pandas in c:\\programdata\\anaconda3\\lib\\site-packages (from pandasql) (2.0.3)\n",
      "Requirement already satisfied: sqlalchemy in c:\\programdata\\anaconda3\\lib\\site-packages (from pandasql) (1.4.39)\n",
      "Requirement already satisfied: python-dateutil>=2.8.2 in c:\\programdata\\anaconda3\\lib\\site-packages (from pandas->pandasql) (2.8.2)\n",
      "Requirement already satisfied: pytz>=2020.1 in c:\\programdata\\anaconda3\\lib\\site-packages (from pandas->pandasql) (2023.3.post1)\n",
      "Requirement already satisfied: tzdata>=2022.1 in c:\\programdata\\anaconda3\\lib\\site-packages (from pandas->pandasql) (2023.3)\n",
      "Requirement already satisfied: greenlet!=0.4.17 in c:\\programdata\\anaconda3\\lib\\site-packages (from sqlalchemy->pandasql) (2.0.1)\n",
      "Requirement already satisfied: six>=1.5 in c:\\programdata\\anaconda3\\lib\\site-packages (from python-dateutil>=2.8.2->pandas->pandasql) (1.16.0)\n",
      "Building wheels for collected packages: pandasql\n",
      "  Building wheel for pandasql (setup.py): started\n",
      "  Building wheel for pandasql (setup.py): finished with status 'done'\n",
      "  Created wheel for pandasql: filename=pandasql-0.7.3-py3-none-any.whl size=26800 sha256=d2f790446e63e4b22d17cf980d6c20d11332dcce6ef4c0ae8cf41ddac1b718a8\n",
      "  Stored in directory: c:\\users\\chaox\\appdata\\local\\pip\\cache\\wheels\\68\\5d\\a5\\edc271b998f909801d7956959f699b976cc9896075dc47c153\n",
      "Successfully built pandasql\n",
      "Installing collected packages: pandasql\n",
      "Successfully installed pandasql-0.7.3\n"
     ]
    }
   ],
   "source": [
    "!pip install pandasql"
   ]
  },
  {
   "cell_type": "code",
   "execution_count": 46,
   "id": "13c1096c-6e76-4f13-826f-b841d8b1f9f1",
   "metadata": {
    "tags": []
   },
   "outputs": [],
   "source": [
    "from pandasql import sqldf"
   ]
  },
  {
   "cell_type": "code",
   "execution_count": 56,
   "id": "124736ce-8277-4ded-b5f3-5a4fddac8126",
   "metadata": {
    "tags": []
   },
   "outputs": [
    {
     "name": "stdout",
     "output_type": "stream",
     "text": [
      "   tot_score  avg_score  num_of_stud      class\n",
      "0        180         90            2  Chemistry\n",
      "1        140         70            2    Chinese\n",
      "2        280         70            4    English\n",
      "3        160         80            2       Math\n",
      "4        130         65            2    Physics\n"
     ]
    }
   ],
   "source": [
    "score_stats=sqldf(\"\"\"select sum(score) as tot_score,\n",
    "        sum(score)/count(*) as avg_score,\n",
    "        count(*) as num_of_stud,\n",
    "        class from res_left group by 4\"\"\")\n",
    "\n",
    "print(score_stats)"
   ]
  },
  {
   "cell_type": "code",
   "execution_count": 65,
   "id": "3fd6f7b5-8249-4dcf-85a4-491bd8e95b59",
   "metadata": {
    "tags": []
   },
   "outputs": [
    {
     "data": {
      "text/html": [
       "<div>\n",
       "<style scoped>\n",
       "    .dataframe tbody tr th:only-of-type {\n",
       "        vertical-align: middle;\n",
       "    }\n",
       "\n",
       "    .dataframe tbody tr th {\n",
       "        vertical-align: top;\n",
       "    }\n",
       "\n",
       "    .dataframe thead th {\n",
       "        text-align: right;\n",
       "    }\n",
       "</style>\n",
       "<table border=\"1\" class=\"dataframe\">\n",
       "  <thead>\n",
       "    <tr style=\"text-align: right;\">\n",
       "      <th></th>\n",
       "      <th>tot_score</th>\n",
       "      <th>avg_score</th>\n",
       "      <th>num_of_stud</th>\n",
       "      <th>class</th>\n",
       "    </tr>\n",
       "  </thead>\n",
       "  <tbody>\n",
       "    <tr>\n",
       "      <th>0</th>\n",
       "      <td>180</td>\n",
       "      <td>90</td>\n",
       "      <td>2</td>\n",
       "      <td>Chemistry</td>\n",
       "    </tr>\n",
       "    <tr>\n",
       "      <th>3</th>\n",
       "      <td>160</td>\n",
       "      <td>80</td>\n",
       "      <td>2</td>\n",
       "      <td>Math</td>\n",
       "    </tr>\n",
       "    <tr>\n",
       "      <th>1</th>\n",
       "      <td>140</td>\n",
       "      <td>70</td>\n",
       "      <td>2</td>\n",
       "      <td>Chinese</td>\n",
       "    </tr>\n",
       "    <tr>\n",
       "      <th>2</th>\n",
       "      <td>280</td>\n",
       "      <td>70</td>\n",
       "      <td>4</td>\n",
       "      <td>English</td>\n",
       "    </tr>\n",
       "    <tr>\n",
       "      <th>4</th>\n",
       "      <td>130</td>\n",
       "      <td>65</td>\n",
       "      <td>2</td>\n",
       "      <td>Physics</td>\n",
       "    </tr>\n",
       "  </tbody>\n",
       "</table>\n",
       "</div>"
      ],
      "text/plain": [
       "   tot_score  avg_score  num_of_stud      class\n",
       "0        180         90            2  Chemistry\n",
       "3        160         80            2       Math\n",
       "1        140         70            2    Chinese\n",
       "2        280         70            4    English\n",
       "4        130         65            2    Physics"
      ]
     },
     "execution_count": 65,
     "metadata": {},
     "output_type": "execute_result"
    }
   ],
   "source": [
    "score_stats.sort_values(by='avg_score',ascending=False)"
   ]
  },
  {
   "cell_type": "code",
   "execution_count": 66,
   "id": "b356811b-993c-4c74-9410-81015aa66df8",
   "metadata": {
    "tags": []
   },
   "outputs": [],
   "source": [
    "##simple demo of linear regression\n",
    "\n",
    "import matplotlib.pyplot as plt\n",
    "import numpy as np\n",
    "\n",
    "from sklearn import datasets, linear_model\n",
    "from sklearn.metrics import mean_squared_error, r2_score\n",
    "\n",
    "# Load the diabetes dataset\n",
    "diabetes_X, diabetes_y = datasets.load_diabetes(return_X_y=True)\n"
   ]
  },
  {
   "cell_type": "code",
   "execution_count": 68,
   "id": "e11980b9-cec2-40b0-8cc5-89f465b638d1",
   "metadata": {
    "tags": []
   },
   "outputs": [
    {
     "name": "stdout",
     "output_type": "stream",
     "text": [
      "(442, 10) (442,)\n",
      "[[ 0.03807591  0.05068012  0.06169621 ... -0.00259226  0.01990749\n",
      "  -0.01764613]\n",
      " [-0.00188202 -0.04464164 -0.05147406 ... -0.03949338 -0.06833155\n",
      "  -0.09220405]\n",
      " [ 0.08529891  0.05068012  0.04445121 ... -0.00259226  0.00286131\n",
      "  -0.02593034]\n",
      " ...\n",
      " [ 0.04170844  0.05068012 -0.01590626 ... -0.01107952 -0.04688253\n",
      "   0.01549073]\n",
      " [-0.04547248 -0.04464164  0.03906215 ...  0.02655962  0.04452873\n",
      "  -0.02593034]\n",
      " [-0.04547248 -0.04464164 -0.0730303  ... -0.03949338 -0.00422151\n",
      "   0.00306441]]\n"
     ]
    }
   ],
   "source": [
    "print(diabetes_X.shape,diabetes_y.shape)\n",
    "print(diabetes_X)"
   ]
  },
  {
   "cell_type": "code",
   "execution_count": 81,
   "id": "86b4e5e3-b00b-4067-82a4-2d4f7f3cf30d",
   "metadata": {
    "tags": []
   },
   "outputs": [],
   "source": [
    "diabetes_X, diabetes_y = datasets.load_diabetes(return_X_y=True)\n",
    "#diabetes_X = diabetes_X[:, np.newaxis, 2:5]"
   ]
  },
  {
   "cell_type": "code",
   "execution_count": 82,
   "id": "50f8bab8-f916-4a43-bc1d-2484b0fd7bc0",
   "metadata": {
    "tags": []
   },
   "outputs": [],
   "source": [
    "\n",
    "# Use only one feature\n",
    "# diabetes_X = diabetes_X[:, np.newaxis, 2]\n",
    "\n",
    "# Split the data into training/testing sets\n",
    "diabetes_X_train = diabetes_X[:-20]\n",
    "diabetes_X_test = diabetes_X[-20:]\n",
    "\n",
    "# Split the targets into training/testing sets\n",
    "diabetes_y_train = diabetes_y[:-20]\n",
    "diabetes_y_test = diabetes_y[-20:]\n"
   ]
  },
  {
   "cell_type": "code",
   "execution_count": 83,
   "id": "aeb3bc45-e604-476b-b68a-0083765a12c7",
   "metadata": {
    "tags": []
   },
   "outputs": [
    {
     "data": {
      "text/plain": [
       "array([[ 0.03807591,  0.05068012,  0.06169621, ..., -0.00259226,\n",
       "         0.01990749, -0.01764613],\n",
       "       [-0.00188202, -0.04464164, -0.05147406, ..., -0.03949338,\n",
       "        -0.06833155, -0.09220405],\n",
       "       [ 0.08529891,  0.05068012,  0.04445121, ..., -0.00259226,\n",
       "         0.00286131, -0.02593034],\n",
       "       ...,\n",
       "       [-0.02004471, -0.04464164, -0.0547075 , ..., -0.03949338,\n",
       "        -0.07409261, -0.0052198 ],\n",
       "       [ 0.02354575, -0.04464164, -0.03638469, ...,  0.03430886,\n",
       "        -0.03324559,  0.06105391],\n",
       "       [ 0.03807591,  0.05068012,  0.0164281 , ...,  0.07120998,\n",
       "         0.0497702 ,  0.01549073]])"
      ]
     },
     "execution_count": 83,
     "metadata": {},
     "output_type": "execute_result"
    }
   ],
   "source": [
    "diabetes_X_train"
   ]
  },
  {
   "cell_type": "code",
   "execution_count": 84,
   "id": "51170c14-5231-48ac-b38e-295c40a83b21",
   "metadata": {
    "tags": []
   },
   "outputs": [],
   "source": [
    "diabetes_X_train_df=pd.DataFrame(diabetes_X_train)\n",
    "diabetes_y_train_df=pd.DataFrame(diabetes_y_train)\n"
   ]
  },
  {
   "cell_type": "code",
   "execution_count": 100,
   "id": "dc422c5e-c375-49e4-b2ea-3479f8152d51",
   "metadata": {
    "tags": []
   },
   "outputs": [
    {
     "data": {
      "text/html": [
       "<div>\n",
       "<style scoped>\n",
       "    .dataframe tbody tr th:only-of-type {\n",
       "        vertical-align: middle;\n",
       "    }\n",
       "\n",
       "    .dataframe tbody tr th {\n",
       "        vertical-align: top;\n",
       "    }\n",
       "\n",
       "    .dataframe thead th {\n",
       "        text-align: right;\n",
       "    }\n",
       "</style>\n",
       "<table border=\"1\" class=\"dataframe\">\n",
       "  <thead>\n",
       "    <tr style=\"text-align: right;\">\n",
       "      <th></th>\n",
       "      <th>0</th>\n",
       "      <th>1</th>\n",
       "      <th>2</th>\n",
       "      <th>3</th>\n",
       "      <th>4</th>\n",
       "      <th>5</th>\n",
       "      <th>6</th>\n",
       "      <th>7</th>\n",
       "      <th>8</th>\n",
       "      <th>9</th>\n",
       "    </tr>\n",
       "  </thead>\n",
       "  <tbody>\n",
       "    <tr>\n",
       "      <th>0</th>\n",
       "      <td>0.038076</td>\n",
       "      <td>0.050680</td>\n",
       "      <td>0.061696</td>\n",
       "      <td>0.021872</td>\n",
       "      <td>-0.044223</td>\n",
       "      <td>-0.034821</td>\n",
       "      <td>-0.043401</td>\n",
       "      <td>-0.002592</td>\n",
       "      <td>0.019907</td>\n",
       "      <td>-0.017646</td>\n",
       "    </tr>\n",
       "    <tr>\n",
       "      <th>1</th>\n",
       "      <td>-0.001882</td>\n",
       "      <td>-0.044642</td>\n",
       "      <td>-0.051474</td>\n",
       "      <td>-0.026328</td>\n",
       "      <td>-0.008449</td>\n",
       "      <td>-0.019163</td>\n",
       "      <td>0.074412</td>\n",
       "      <td>-0.039493</td>\n",
       "      <td>-0.068332</td>\n",
       "      <td>-0.092204</td>\n",
       "    </tr>\n",
       "    <tr>\n",
       "      <th>2</th>\n",
       "      <td>0.085299</td>\n",
       "      <td>0.050680</td>\n",
       "      <td>0.044451</td>\n",
       "      <td>-0.005670</td>\n",
       "      <td>-0.045599</td>\n",
       "      <td>-0.034194</td>\n",
       "      <td>-0.032356</td>\n",
       "      <td>-0.002592</td>\n",
       "      <td>0.002861</td>\n",
       "      <td>-0.025930</td>\n",
       "    </tr>\n",
       "  </tbody>\n",
       "</table>\n",
       "</div>"
      ],
      "text/plain": [
       "          0         1         2         3         4         5         6  \\\n",
       "0  0.038076  0.050680  0.061696  0.021872 -0.044223 -0.034821 -0.043401   \n",
       "1 -0.001882 -0.044642 -0.051474 -0.026328 -0.008449 -0.019163  0.074412   \n",
       "2  0.085299  0.050680  0.044451 -0.005670 -0.045599 -0.034194 -0.032356   \n",
       "\n",
       "          7         8         9  \n",
       "0 -0.002592  0.019907 -0.017646  \n",
       "1 -0.039493 -0.068332 -0.092204  \n",
       "2 -0.002592  0.002861 -0.025930  "
      ]
     },
     "execution_count": 100,
     "metadata": {},
     "output_type": "execute_result"
    }
   ],
   "source": [
    "data_train=pd.concat([diabetes_X_train_df,diabetes_y_train_df],axis=0)\n",
    "\n",
    "data_train.head(3)"
   ]
  },
  {
   "cell_type": "code",
   "execution_count": 85,
   "id": "71f4db53-5053-4278-ac5c-64d885aa546b",
   "metadata": {
    "tags": []
   },
   "outputs": [],
   "source": [
    "\n",
    "# Create linear regression object\n",
    "regr = linear_model.LinearRegression()\n",
    "\n",
    "# Train the model using the training sets\n",
    "regr.fit(diabetes_X_train_df, diabetes_y_train)\n",
    "\n",
    "# Make predictions using the testing set\n",
    "diabetes_y_pred = regr.predict(diabetes_X_test)"
   ]
  },
  {
   "cell_type": "code",
   "execution_count": 91,
   "id": "b384a5b7-35e5-47bb-8c24-487a4e03a042",
   "metadata": {
    "tags": []
   },
   "outputs": [],
   "source": [
    "diabetes_ytr_pred = regr.predict(diabetes_X_train_df)"
   ]
  },
  {
   "cell_type": "code",
   "execution_count": 92,
   "id": "664bb010-bae8-4b3b-bde1-c19f558da05f",
   "metadata": {
    "tags": []
   },
   "outputs": [
    {
     "name": "stdout",
     "output_type": "stream",
     "text": [
      "Coefficient of determination: 0.51\n"
     ]
    }
   ],
   "source": [
    "print(\"Coefficient of determination: %.2f\" % r2_score(diabetes_y_train, diabetes_ytr_pred))"
   ]
  },
  {
   "cell_type": "code",
   "execution_count": 93,
   "id": "3e1c46c5-2d70-4f46-96ed-1c35dcec7776",
   "metadata": {
    "tags": []
   },
   "outputs": [
    {
     "name": "stdout",
     "output_type": "stream",
     "text": [
      "Coefficients: \n",
      " [ 3.06094248e-01 -2.37635570e+02  5.10538048e+02  3.27729878e+02\n",
      " -8.14111926e+02  4.92799595e+02  1.02841240e+02  1.84603496e+02\n",
      "  7.43509388e+02  7.60966464e+01]\n",
      "Mean squared error: 2004.52\n",
      "Coefficient of determination: 0.59\n"
     ]
    }
   ],
   "source": [
    "\n",
    "# The coefficients\n",
    "print(\"Coefficients: \\n\", regr.coef_)\n",
    "# The mean squared error\n",
    "print(\"Mean squared error: %.2f\" % mean_squared_error(diabetes_y_test, diabetes_y_pred))\n",
    "# The coefficient of determination: 1 is perfect prediction\n",
    "print(\"Coefficient of determination: %.2f\" % r2_score(diabetes_y_test, diabetes_y_pred))"
   ]
  },
  {
   "cell_type": "code",
   "execution_count": 96,
   "id": "da2e64a7-b361-4605-92e2-9fa7acd2cc54",
   "metadata": {
    "tags": []
   },
   "outputs": [],
   "source": [
    "import seaborn as sns\n",
    "import statsmodels.api as sm\n",
    "%matplotlib inline\n",
    "from sklearn.model_selection import train_test_split\n",
    "from sklearn.linear_model import LinearRegression\n",
    "from sklearn.feature_selection import RFE\n",
    "from sklearn.linear_model import RidgeCV, LassoCV, Ridge, Lasso"
   ]
  },
  {
   "cell_type": "code",
   "execution_count": 89,
   "id": "c9b01bb9-93a7-4967-9836-9f71b5f3feed",
   "metadata": {
    "tags": []
   },
   "outputs": [],
   "source": [
    "#https://towardsdatascience.com/feature-selection-with-pandas-e3690ad8504b\n",
    "# Plot outputs\n",
    "# plt.scatter(diabetes_X_test, diabetes_y_test, color=\"black\")\n",
    "# plt.plot(diabetes_X_test, diabetes_y_pred, color=\"blue\", linewidth=3)\n",
    "\n",
    "# plt.xticks(())\n",
    "# plt.yticks(())\n",
    "\n",
    "# plt.show()"
   ]
  },
  {
   "cell_type": "code",
   "execution_count": 101,
   "id": "80a7a7ac-c443-43f4-83b3-c1ff6d4fa4ce",
   "metadata": {
    "tags": []
   },
   "outputs": [
    {
     "data": {
      "image/png": "[encoded data removed]",
      "text/plain": [
       "<Figure size 1200x1000 with 2 Axes>"
      ]
     },
     "metadata": {},
     "output_type": "display_data"
    }
   ],
   "source": [
    "#Using Pearson Correlation\n",
    "plt.figure(figsize=(12,10))\n",
    "cor = data_train.corr()\n",
    "sns.heatmap(cor, annot=True, cmap=plt.cm.Reds)\n",
    "plt.show()"
   ]
  },
  {
   "cell_type": "code",
   "execution_count": 104,
   "id": "1571168e-6b1a-4a1d-a37b-e2a44411f737",
   "metadata": {
    "tags": []
   },
   "outputs": [
    {
     "data": {
      "text/html": [
       "<div>\n",
       "<style scoped>\n",
       "    .dataframe tbody tr th:only-of-type {\n",
       "        vertical-align: middle;\n",
       "    }\n",
       "\n",
       "    .dataframe tbody tr th {\n",
       "        vertical-align: top;\n",
       "    }\n",
       "\n",
       "    .dataframe thead th {\n",
       "        text-align: right;\n",
       "    }\n",
       "</style>\n",
       "<table border=\"1\" class=\"dataframe\">\n",
       "  <thead>\n",
       "    <tr style=\"text-align: right;\">\n",
       "      <th></th>\n",
       "      <th>0</th>\n",
       "      <th>1</th>\n",
       "      <th>2</th>\n",
       "      <th>3</th>\n",
       "      <th>4</th>\n",
       "      <th>5</th>\n",
       "      <th>6</th>\n",
       "      <th>7</th>\n",
       "      <th>8</th>\n",
       "      <th>9</th>\n",
       "    </tr>\n",
       "  </thead>\n",
       "  <tbody>\n",
       "    <tr>\n",
       "      <th>0</th>\n",
       "      <td>1.000000</td>\n",
       "      <td>0.160903</td>\n",
       "      <td>0.184410</td>\n",
       "      <td>0.325652</td>\n",
       "      <td>0.274218</td>\n",
       "      <td>0.225132</td>\n",
       "      <td>-0.055302</td>\n",
       "      <td>0.196630</td>\n",
       "      <td>0.272405</td>\n",
       "      <td>0.294157</td>\n",
       "    </tr>\n",
       "    <tr>\n",
       "      <th>1</th>\n",
       "      <td>0.160903</td>\n",
       "      <td>1.000000</td>\n",
       "      <td>0.076407</td>\n",
       "      <td>0.224242</td>\n",
       "      <td>0.038637</td>\n",
       "      <td>0.142662</td>\n",
       "      <td>-0.372199</td>\n",
       "      <td>0.327998</td>\n",
       "      <td>0.143948</td>\n",
       "      <td>0.199691</td>\n",
       "    </tr>\n",
       "    <tr>\n",
       "      <th>2</th>\n",
       "      <td>0.184410</td>\n",
       "      <td>0.076407</td>\n",
       "      <td>1.000000</td>\n",
       "      <td>0.382885</td>\n",
       "      <td>0.257508</td>\n",
       "      <td>0.268416</td>\n",
       "      <td>-0.361736</td>\n",
       "      <td>0.418926</td>\n",
       "      <td>0.437258</td>\n",
       "      <td>0.383820</td>\n",
       "    </tr>\n",
       "    <tr>\n",
       "      <th>3</th>\n",
       "      <td>0.325652</td>\n",
       "      <td>0.224242</td>\n",
       "      <td>0.382885</td>\n",
       "      <td>1.000000</td>\n",
       "      <td>0.248212</td>\n",
       "      <td>0.185114</td>\n",
       "      <td>-0.162233</td>\n",
       "      <td>0.250829</td>\n",
       "      <td>0.387554</td>\n",
       "      <td>0.389335</td>\n",
       "    </tr>\n",
       "    <tr>\n",
       "      <th>4</th>\n",
       "      <td>0.274218</td>\n",
       "      <td>0.038637</td>\n",
       "      <td>0.257508</td>\n",
       "      <td>0.248212</td>\n",
       "      <td>1.000000</td>\n",
       "      <td>0.896138</td>\n",
       "      <td>0.040240</td>\n",
       "      <td>0.547041</td>\n",
       "      <td>0.520252</td>\n",
       "      <td>0.325745</td>\n",
       "    </tr>\n",
       "    <tr>\n",
       "      <th>5</th>\n",
       "      <td>0.225132</td>\n",
       "      <td>0.142662</td>\n",
       "      <td>0.268416</td>\n",
       "      <td>0.185114</td>\n",
       "      <td>0.896138</td>\n",
       "      <td>1.000000</td>\n",
       "      <td>-0.200766</td>\n",
       "      <td>0.658374</td>\n",
       "      <td>0.315809</td>\n",
       "      <td>0.289304</td>\n",
       "    </tr>\n",
       "    <tr>\n",
       "      <th>6</th>\n",
       "      <td>-0.055302</td>\n",
       "      <td>-0.372199</td>\n",
       "      <td>-0.361736</td>\n",
       "      <td>-0.162233</td>\n",
       "      <td>0.040240</td>\n",
       "      <td>-0.200766</td>\n",
       "      <td>1.000000</td>\n",
       "      <td>-0.742383</td>\n",
       "      <td>-0.399536</td>\n",
       "      <td>-0.279590</td>\n",
       "    </tr>\n",
       "    <tr>\n",
       "      <th>7</th>\n",
       "      <td>0.196630</td>\n",
       "      <td>0.327998</td>\n",
       "      <td>0.418926</td>\n",
       "      <td>0.250829</td>\n",
       "      <td>0.547041</td>\n",
       "      <td>0.658374</td>\n",
       "      <td>-0.742383</td>\n",
       "      <td>1.000000</td>\n",
       "      <td>0.617882</td>\n",
       "      <td>0.422934</td>\n",
       "    </tr>\n",
       "    <tr>\n",
       "      <th>8</th>\n",
       "      <td>0.272405</td>\n",
       "      <td>0.143948</td>\n",
       "      <td>0.437258</td>\n",
       "      <td>0.387554</td>\n",
       "      <td>0.520252</td>\n",
       "      <td>0.315809</td>\n",
       "      <td>-0.399536</td>\n",
       "      <td>0.617882</td>\n",
       "      <td>1.000000</td>\n",
       "      <td>0.465065</td>\n",
       "    </tr>\n",
       "    <tr>\n",
       "      <th>9</th>\n",
       "      <td>0.294157</td>\n",
       "      <td>0.199691</td>\n",
       "      <td>0.383820</td>\n",
       "      <td>0.389335</td>\n",
       "      <td>0.325745</td>\n",
       "      <td>0.289304</td>\n",
       "      <td>-0.279590</td>\n",
       "      <td>0.422934</td>\n",
       "      <td>0.465065</td>\n",
       "      <td>1.000000</td>\n",
       "    </tr>\n",
       "  </tbody>\n",
       "</table>\n",
       "</div>"
      ],
      "text/plain": [
       "          0         1         2         3         4         5         6  \\\n",
       "0  1.000000  0.160903  0.184410  0.325652  0.274218  0.225132 -0.055302   \n",
       "1  0.160903  1.000000  0.076407  0.224242  0.038637  0.142662 -0.372199   \n",
       "2  0.184410  0.076407  1.000000  0.382885  0.257508  0.268416 -0.361736   \n",
       "3  0.325652  0.224242  0.382885  1.000000  0.248212  0.185114 -0.162233   \n",
       "4  0.274218  0.038637  0.257508  0.248212  1.000000  0.896138  0.040240   \n",
       "5  0.225132  0.142662  0.268416  0.185114  0.896138  1.000000 -0.200766   \n",
       "6 -0.055302 -0.372199 -0.361736 -0.162233  0.040240 -0.200766  1.000000   \n",
       "7  0.196630  0.327998  0.418926  0.250829  0.547041  0.658374 -0.742383   \n",
       "8  0.272405  0.143948  0.437258  0.387554  0.520252  0.315809 -0.399536   \n",
       "9  0.294157  0.199691  0.383820  0.389335  0.325745  0.289304 -0.279590   \n",
       "\n",
       "          7         8         9  \n",
       "0  0.196630  0.272405  0.294157  \n",
       "1  0.327998  0.143948  0.199691  \n",
       "2  0.418926  0.437258  0.383820  \n",
       "3  0.250829  0.387554  0.389335  \n",
       "4  0.547041  0.520252  0.325745  \n",
       "5  0.658374  0.315809  0.289304  \n",
       "6 -0.742383 -0.399536 -0.279590  \n",
       "7  1.000000  0.617882  0.422934  \n",
       "8  0.617882  1.000000  0.465065  \n",
       "9  0.422934  0.465065  1.000000  "
      ]
     },
     "execution_count": 104,
     "metadata": {},
     "output_type": "execute_result"
    }
   ],
   "source": [
    "cor"
   ]
  },
  {
   "cell_type": "code",
   "execution_count": 106,
   "id": "878d3c49-5e7e-4f01-915d-8549e2ab386a",
   "metadata": {
    "tags": []
   },
   "outputs": [
    {
     "data": {
      "text/plain": [
       "2    0.383820\n",
       "3    0.389335\n",
       "4    0.325745\n",
       "7    0.422934\n",
       "8    0.465065\n",
       "9    1.000000\n",
       "Name: 9, dtype: float64"
      ]
     },
     "execution_count": 106,
     "metadata": {},
     "output_type": "execute_result"
    }
   ],
   "source": [
    "#Correlation with output variable\n",
    "cor_target = abs(cor.loc[:,9])\n",
    "#Selecting highly correlated features\n",
    "relevant_features = cor_target[cor_target>0.3]\n",
    "relevant_features"
   ]
  },
  {
   "cell_type": "code",
   "execution_count": 111,
   "id": "4292395e-222f-432a-8c2a-f637bd0ec703",
   "metadata": {
    "tags": []
   },
   "outputs": [],
   "source": [
    "#diabetes_X_train_df,diabetes_y_train_df\n",
    "X=diabetes_X_train_df.rename(columns={0:'X0',1:'X1',2:'X2',3:'X3',4:'X4',5:'X5',6:'X6',7:'X7',8:'X8',9:'X9',})\n",
    "y=diabetes_y_train_df"
   ]
  },
  {
   "cell_type": "code",
   "execution_count": 112,
   "id": "04fda087-d4e1-4102-9f7b-757f2b811c2c",
   "metadata": {
    "tags": []
   },
   "outputs": [
    {
     "data": {
      "text/plain": [
       "const    1.482869e-198\n",
       "X0        9.960174e-01\n",
       "X1        1.788204e-04\n",
       "X2        4.227490e-13\n",
       "X3        1.377710e-06\n",
       "X4        5.556289e-02\n",
       "X5        1.530098e-01\n",
       "X6        6.395989e-01\n",
       "X7        2.705897e-01\n",
       "X8        2.763446e-05\n",
       "X9        2.658180e-01\n",
       "dtype: float64"
      ]
     },
     "execution_count": 112,
     "metadata": {},
     "output_type": "execute_result"
    }
   ],
   "source": [
    "\n",
    "#Adding constant column of ones, mandatory for sm.OLS model\n",
    "X_1 = sm.add_constant(X)\n",
    "#Fitting sm.OLS model\n",
    "model = sm.OLS(y,X_1).fit()\n",
    "model.pvalues"
   ]
  },
  {
   "cell_type": "code",
   "execution_count": 113,
   "id": "1acdf3d7-f802-44ba-80d5-af46811493d4",
   "metadata": {
    "tags": []
   },
   "outputs": [
    {
     "name": "stdout",
     "output_type": "stream",
     "text": [
      "['X1', 'X2', 'X3', 'X4', 'X5', 'X8']\n"
     ]
    }
   ],
   "source": [
    "#Backward Elimination\n",
    "cols = list(X.columns)\n",
    "pmax = 1\n",
    "while (len(cols)>0):\n",
    "    p= []\n",
    "    X_1 = X[cols]\n",
    "    X_1 = sm.add_constant(X_1)\n",
    "    model = sm.OLS(y,X_1).fit()\n",
    "    p = pd.Series(model.pvalues.values[1:],index = cols)      \n",
    "    pmax = max(p)\n",
    "    feature_with_p_max = p.idxmax()\n",
    "    if(pmax>0.05):\n",
    "        cols.remove(feature_with_p_max)\n",
    "    else:\n",
    "        break\n",
    "selected_features_BE = cols\n",
    "print(selected_features_BE)"
   ]
  },
  {
   "cell_type": "code",
   "execution_count": 116,
   "id": "000ce914-8212-4fb6-bd43-9bd6fbce0c04",
   "metadata": {
    "tags": []
   },
   "outputs": [
    {
     "name": "stdout",
     "output_type": "stream",
     "text": [
      "[ True  True  True  True  True  True  True  True  True  True]\n",
      "[1 1 1 1 1 1 1 1 1 1]\n"
     ]
    }
   ],
   "source": [
    "#Recursive Feature Elimination\n",
    "\n",
    "model = LinearRegression()\n",
    "#Initializing RFE model\n",
    "rfe = RFE(model, n_features_to_select=10)\n",
    "#Transforming data using RFE\n",
    "X_rfe = rfe.fit_transform(X,y)  \n",
    "#Fitting the data to model\n",
    "model.fit(X_rfe,y)\n",
    "print(rfe.support_)\n",
    "print(rfe.ranking_)"
   ]
  },
  {
   "cell_type": "code",
   "execution_count": 118,
   "id": "b2053793-7d96-4a58-bc27-8c4290b8a520",
   "metadata": {
    "tags": []
   },
   "outputs": [
    {
     "name": "stdout",
     "output_type": "stream",
     "text": [
      "Optimum number of features: 6\n",
      "Score with 6 features: 0.397389\n"
     ]
    }
   ],
   "source": [
    "#no of features\n",
    "nof_list=np.arange(1,10)            \n",
    "high_score=0\n",
    "#Variable to store the optimum features\n",
    "nof=0           \n",
    "score_list =[]\n",
    "for n in range(len(nof_list)):\n",
    "    X_train, X_test, y_train, y_test = train_test_split(X,y, test_size = 0.3, random_state = 0)\n",
    "    model = LinearRegression()\n",
    "    rfe = RFE(model,n_features_to_select=nof_list[n])\n",
    "    X_train_rfe = rfe.fit_transform(X_train,y_train)\n",
    "    X_test_rfe = rfe.transform(X_test)\n",
    "    model.fit(X_train_rfe,y_train)\n",
    "    score = model.score(X_test_rfe,y_test)\n",
    "    score_list.append(score)\n",
    "    if(score>high_score):\n",
    "        high_score = score\n",
    "        nof = nof_list[n]\n",
    "print(\"Optimum number of features: %d\" %nof)\n",
    "print(\"Score with %d features: %f\" % (nof, high_score))"
   ]
  },
  {
   "cell_type": "code",
   "execution_count": 123,
   "id": "6a492435-3a4e-4414-a792-13599c83c026",
   "metadata": {
    "tags": []
   },
   "outputs": [
    {
     "name": "stdout",
     "output_type": "stream",
     "text": [
      "Index(['X1', 'X2', 'X3', 'X4', 'X5', 'X8'], dtype='object')\n"
     ]
    }
   ],
   "source": [
    "cols = list(X.columns)\n",
    "model = LinearRegression()\n",
    "#Initializing RFE model\n",
    "rfe = RFE(model, n_features_to_select=6)             \n",
    "#Transforming data using RFE\n",
    "X_rfe = rfe.fit_transform(X,y)  \n",
    "#Fitting the data to model\n",
    "model.fit(X_rfe,y)              \n",
    "temp = pd.Series(rfe.support_,index = cols)\n",
    "selected_features_rfe = temp[temp==True].index\n",
    "print(selected_features_rfe)"
   ]
  },
  {
   "cell_type": "code",
   "execution_count": 130,
   "id": "2e14b05b-062d-4bf4-b7a8-1b312d9e2730",
   "metadata": {
    "tags": []
   },
   "outputs": [
    {
     "name": "stdout",
     "output_type": "stream",
     "text": [
      "[[-222.32228672  523.18984219  334.98221021 -786.68580018  565.5809344\n",
      "   804.49323155]]\n"
     ]
    }
   ],
   "source": [
    "print(model.coef_)\n",
    "coef = pd.Series(model.coef_[0], index = selected_features_rfe)"
   ]
  },
  {
   "cell_type": "code",
   "execution_count": 131,
   "id": "c18de5f6-eef7-44ef-9290-2574c45c491e",
   "metadata": {
    "tags": []
   },
   "outputs": [
    {
     "data": {
      "text/plain": [
       "Text(0.5, 1.0, 'Feature importance using RFE Model')"
      ]
     },
     "execution_count": 131,
     "metadata": {},
     "output_type": "execute_result"
    },
    {
     "data": {
      "image/png": "[encoded data removed]",
      "text/plain": [
       "<Figure size 800x1000 with 1 Axes>"
      ]
     },
     "metadata": {},
     "output_type": "display_data"
    }
   ],
   "source": [
    "\n",
    "\n",
    "imp_coef = coef.sort_values()\n",
    "# import matplotlib\n",
    "matplotlib.rcParams['figure.figsize'] = (8.0, 10.0)\n",
    "imp_coef.plot(kind = \"barh\")\n",
    "plt.title(\"Feature importance using RFE Model\")"
   ]
  },
  {
   "cell_type": "code",
   "execution_count": null,
   "id": "4bd9a48a-b397-43e7-8934-f60a5e2b60d5",
   "metadata": {},
   "outputs": [],
   "source": []
  },
  {
   "cell_type": "code",
   "execution_count": 120,
   "id": "31e5b069-50b5-4a14-a603-31eff1bb0408",
   "metadata": {
    "tags": []
   },
   "outputs": [
    {
     "name": "stderr",
     "output_type": "stream",
     "text": [
      "C:\\ProgramData\\anaconda3\\Lib\\site-packages\\sklearn\\linear_model\\_coordinate_descent.py:1563: DataConversionWarning: A column-vector y was passed when a 1d array was expected. Please change the shape of y to (n_samples, ), for example using ravel().\n",
      "  y = column_or_1d(y, warn=True)\n"
     ]
    },
    {
     "name": "stdout",
     "output_type": "stream",
     "text": [
      "Best alpha using built-in LassoCV: 0.008578\n",
      "Best score using built-in LassoCV: 0.511117\n"
     ]
    }
   ],
   "source": [
    "#Embedded method - Lasso\n",
    "#with penalties\n",
    "reg = LassoCV()\n",
    "reg.fit(X, y)\n",
    "print(\"Best alpha using built-in LassoCV: %f\" % reg.alpha_)\n",
    "print(\"Best score using built-in LassoCV: %f\" %reg.score(X,y))\n",
    "coef = pd.Series(reg.coef_, index = X.columns)"
   ]
  },
  {
   "cell_type": "code",
   "execution_count": 121,
   "id": "6ade3d0f-02a4-4e9d-ad60-50c51937c74a",
   "metadata": {
    "tags": []
   },
   "outputs": [
    {
     "name": "stdout",
     "output_type": "stream",
     "text": [
      "Lasso picked 9 variables and eliminated the other 1 variables\n"
     ]
    }
   ],
   "source": [
    "print(\"Lasso picked \" + str(sum(coef != 0)) + \" variables and eliminated the other \" +  str(sum(coef == 0)) + \" variables\")"
   ]
  },
  {
   "cell_type": "code",
   "execution_count": 122,
   "id": "7b07cb6b-967f-42bb-b3fa-f97d7d6d81ca",
   "metadata": {
    "tags": []
   },
   "outputs": [
    {
     "data": {
      "text/plain": [
       "Text(0.5, 1.0, 'Feature importance using Lasso Model')"
      ]
     },
     "execution_count": 122,
     "metadata": {},
     "output_type": "execute_result"
    },
    {
     "data": {
      "image/png": "[encoded data removed]",
      "text/plain": [
       "<Figure size 800x1000 with 1 Axes>"
      ]
     },
     "metadata": {},
     "output_type": "display_data"
    }
   ],
   "source": [
    "imp_coef = coef.sort_values()\n",
    "import matplotlib\n",
    "matplotlib.rcParams['figure.figsize'] = (8.0, 10.0)\n",
    "imp_coef.plot(kind = \"barh\")\n",
    "plt.title(\"Feature importance using Lasso Model\")"
   ]
  }
 ],
 "metadata": {
  "kernelspec": {
   "display_name": "Python 3 (ipykernel)",
   "language": "python",
   "name": "python3"
  },
  "language_info": {
   "codemirror_mode": {
    "name": "ipython",
    "version": 3
   },
   "file_extension": ".py",
   "mimetype": "text/x-python",
   "name": "python",
   "nbconvert_exporter": "python",
   "pygments_lexer": "ipython3",
   "version": "3.11.5"
  }
 },
 "nbformat": 4,
 "nbformat_minor": 5
}
